{
 "cells": [
  {
   "cell_type": "markdown",
   "id": "45ca8370",
   "metadata": {},
   "source": [
    "# 1. Read data & perform basic analysis !"
   ]
  },
  {
   "cell_type": "code",
   "execution_count": null,
   "id": "0a7a42a3",
   "metadata": {},
   "outputs": [],
   "source": [
    "import pandas as pd \n",
    "import numpy as np \n",
    "import matplotlib.pyplot as plt \n",
    "import seaborn as sns"
   ]
  },
  {
   "cell_type": "code",
   "execution_count": null,
   "id": "78b7803a",
   "metadata": {},
   "outputs": [],
   "source": [
    "df = pd.read_csv(r\"C:\\Users\\Ali\\Desktop\\Data Analysis Projects\\Bitcoin\\bitcoin_price_Training - Training.csv\")"
   ]
  },
  {
   "cell_type": "code",
   "execution_count": null,
   "id": "bacce8f8",
   "metadata": {},
   "outputs": [],
   "source": [
    "df.head(3)"
   ]
  },
  {
   "cell_type": "code",
   "execution_count": null,
   "id": "722bcb57",
   "metadata": {},
   "outputs": [],
   "source": [
    "df.columns"
   ]
  },
  {
   "cell_type": "code",
   "execution_count": null,
   "id": "3f29186f",
   "metadata": {},
   "outputs": [],
   "source": [
    "df.shape"
   ]
  },
  {
   "cell_type": "code",
   "execution_count": null,
   "id": "3741426f",
   "metadata": {},
   "outputs": [],
   "source": [
    "df.info()"
   ]
  },
  {
   "cell_type": "code",
   "execution_count": null,
   "id": "5fb5f621",
   "metadata": {},
   "outputs": [],
   "source": [
    "df.describe()"
   ]
  },
  {
   "cell_type": "code",
   "execution_count": null,
   "id": "1f75f4e0",
   "metadata": {},
   "outputs": [],
   "source": [
    "df.describe().T"
   ]
  },
  {
   "cell_type": "markdown",
   "id": "54e8964f",
   "metadata": {},
   "source": [
    "# 2. Doing Data Pre-processing !\n",
    "        Check whether data-types are correct or not \n",
    "        check whether Data have missing value or not \n",
    "        check whether data have duplicate entries or not !\n",
    "        "
   ]
  },
  {
   "cell_type": "code",
   "execution_count": null,
   "id": "d07f71f6",
   "metadata": {},
   "outputs": [],
   "source": [
    "df.dtypes"
   ]
  },
  {
   "cell_type": "markdown",
   "id": "6f0244c2",
   "metadata": {},
   "source": [
    "    Date is to be in Date-time format inorder to perform a time series analysis but In the current dataset \n",
    "    the date is stated as an object which is to be converted in the date time format.."
   ]
  },
  {
   "cell_type": "code",
   "execution_count": null,
   "id": "ed93bdea",
   "metadata": {},
   "outputs": [],
   "source": [
    "'''\n",
    "pandas Data Type for Time-Series : \n",
    "    a ) datetime64[ns]\n",
    "datetime64[ns] is a 64 bit number ie it uses/occupies 64 bits or 8-Bytes in computer memory to store datetime value ..\n",
    "\n",
    "    b ) datetime64[ns, tz]\n",
    "\n",
    "    c ) datetime64[ns, UTC]\n",
    "    \n",
    "\n",
    "    d ) dtype('<M8[ns]') or dtype('>M8[ns]')\n",
    " \n",
    "## < represents byte order, small end （ the least significant byte is stored in the smallest address ）\n",
    "## M is a type character code for Datetime\n",
    "## 8 represents element byte length, data size ie 8-byte or 64 bit \n",
    "\n",
    "\n",
    "\n",
    "\n",
    "    where UTC = Coordinated Universal Time\n",
    "          ns  = nano second\n",
    "          tz  = time zone\n",
    "\n",
    "\n",
    "'''"
   ]
  },
  {
   "cell_type": "code",
   "execution_count": null,
   "id": "21adcf48",
   "metadata": {},
   "outputs": [],
   "source": [
    "'''\n",
    "\n",
    "datetime64[ns] is a general dtype, while dtype('<M8[ns]') is a specific dtype ,\n",
    "\n",
    "Both are similar , it entirely depends upon how your numpy was compiled & on the bit architecture of the OS ..\n",
    "\n",
    "Now architecture of numpy itself depends upon lots of factors like \n",
    "what environment u are using , what about the generation of your laptop too..\n",
    "\n",
    "\n",
    "But if u want to think it bluntly , they are same..\n",
    "By the way ,u can cross_check using below code:\n",
    "\n",
    "import numpy as np\n",
    "np.dtype('datetime64[ns]') == np.dtype('<M8[ns]')\n",
    "\n",
    "'''"
   ]
  },
  {
   "cell_type": "code",
   "execution_count": null,
   "id": "5d723662",
   "metadata": {},
   "outputs": [],
   "source": [
    "### convert feature into date-time\n",
    "### since we have converted feature into date-time using pd.to_datetime() couple of times so lets use astype('datetime64[ns]')\n",
    "\n",
    "df['Date'] = df['Date'].astype('datetime64[ns]')\n",
    "\n",
    "## pd.to_datetime()"
   ]
  },
  {
   "cell_type": "code",
   "execution_count": null,
   "id": "4c1bf7bf",
   "metadata": {},
   "outputs": [],
   "source": [
    "df['Date'].min()"
   ]
  },
  {
   "cell_type": "code",
   "execution_count": null,
   "id": "5b6c04de",
   "metadata": {},
   "outputs": [],
   "source": [
    "df['Date'].max()"
   ]
  },
  {
   "cell_type": "code",
   "execution_count": null,
   "id": "38213d81",
   "metadata": {},
   "outputs": [],
   "source": [
    "'''\n",
    "\n",
    "ie data is collected from \"28th April 2013\" to \"31st July 2017\"\n",
    "\n",
    "'''"
   ]
  },
  {
   "cell_type": "code",
   "execution_count": null,
   "id": "b148b109",
   "metadata": {},
   "outputs": [],
   "source": [
    "df['Date']\n",
    "\n",
    "### Note : Each row in the \"Date\" column will belong to timestamp & \"Date\" Feature data-type will be datetime64[ns]..\n",
    "## Timestamp is the pandas equivalent of python’s Datetime module.."
   ]
  },
  {
   "cell_type": "code",
   "execution_count": null,
   "id": "2229c599",
   "metadata": {},
   "outputs": [],
   "source": [
    "type(df['Date'][0])\n",
    "\n",
    "### ie Timestamp is a Scaler Class .."
   ]
  },
  {
   "cell_type": "code",
   "execution_count": null,
   "id": "e11cb654",
   "metadata": {},
   "outputs": [],
   "source": [
    "df.isnull().sum() ## check whether we have missing value or not !"
   ]
  },
  {
   "cell_type": "code",
   "execution_count": null,
   "id": "c7cec482",
   "metadata": {},
   "outputs": [],
   "source": [
    "df.duplicated().sum()  ## No duplicated value .."
   ]
  },
  {
   "cell_type": "markdown",
   "id": "3f1caf2c",
   "metadata": {},
   "source": [
    "#### Now sort the dataset from oldest - recent"
   ]
  },
  {
   "cell_type": "code",
   "execution_count": null,
   "id": "34345d1b",
   "metadata": {},
   "outputs": [],
   "source": [
    "df.head(3)"
   ]
  },
  {
   "cell_type": "code",
   "execution_count": null,
   "id": "2e61bca8",
   "metadata": {},
   "outputs": [],
   "source": [
    "df.tail(5)"
   ]
  },
  {
   "cell_type": "code",
   "execution_count": null,
   "id": "614ed732",
   "metadata": {},
   "outputs": [],
   "source": [
    "data = df.sort_index(ascending=False).reset_index()"
   ]
  },
  {
   "cell_type": "markdown",
   "id": "f9c92175",
   "metadata": {},
   "source": [
    "# 3. Analysing change in price of the stock overtime?"
   ]
  },
  {
   "cell_type": "code",
   "execution_count": null,
   "id": "8cfa8673",
   "metadata": {},
   "outputs": [],
   "source": [
    "data.drop('index' , axis=1 , inplace=True)"
   ]
  },
  {
   "cell_type": "code",
   "execution_count": null,
   "id": "34069285",
   "metadata": {},
   "outputs": [],
   "source": [
    "data"
   ]
  },
  {
   "cell_type": "code",
   "execution_count": null,
   "id": "1b5bd06a",
   "metadata": {},
   "outputs": [],
   "source": [
    "data.columns"
   ]
  },
  {
   "cell_type": "code",
   "execution_count": null,
   "id": "4b95b782",
   "metadata": {},
   "outputs": [],
   "source": [
    "plt.figure(figsize=(20,12))\n",
    "\n",
    "for index , col in enumerate(['Open', 'High', 'Low', 'Close'] , 1):\n",
    "    plt.subplot(2,2,index)\n",
    "    plt.plot(df['Date'] , df[col])\n",
    "    plt.title(col)"
   ]
  },
  {
   "cell_type": "markdown",
   "id": "c05d3bcd",
   "metadata": {},
   "source": [
    "# 4. Analysing open , high , low , close value of Bitcoin !\n",
    "    try out candle-stick/ohlc charts ! , both are same .."
   ]
  },
  {
   "cell_type": "code",
   "execution_count": null,
   "id": "c9a1cbd9",
   "metadata": {},
   "outputs": [],
   "source": [
    "data.shape"
   ]
  },
  {
   "cell_type": "code",
   "execution_count": null,
   "id": "04b9a85c",
   "metadata": {},
   "outputs": [],
   "source": [
    "bitcoin_sample = data[0:50]\n",
    "\n",
    "### consider sample of data if u dont have good specifications pc/laptop .."
   ]
  },
  {
   "cell_type": "code",
   "execution_count": null,
   "id": "d9d59fc4",
   "metadata": {},
   "outputs": [],
   "source": [
    "### Lets do proper setup of Plotly so that we can leverage power of Plotly & Cufflinks .."
   ]
  },
  {
   "cell_type": "code",
   "execution_count": null,
   "id": "f120c6c8",
   "metadata": {},
   "outputs": [],
   "source": [
    "# !pip install chart-studio\n",
    "# !pip install plotly"
   ]
  },
  {
   "cell_type": "code",
   "execution_count": null,
   "id": "2ec55fb4",
   "metadata": {},
   "outputs": [],
   "source": [
    "import chart_studio.plotly as py\n",
    "\n",
    "import plotly.graph_objs as go\n",
    "\n",
    "import plotly.express as px\n",
    "\n",
    "from plotly.offline import download_plotlyjs , init_notebook_mode , plot , iplot"
   ]
  },
  {
   "cell_type": "code",
   "execution_count": null,
   "id": "e00374d3",
   "metadata": {},
   "outputs": [],
   "source": [
    "init_notebook_mode(connected=True)"
   ]
  },
  {
   "cell_type": "code",
   "execution_count": null,
   "id": "20d30552",
   "metadata": {},
   "outputs": [],
   "source": [
    "trace = go.Candlestick(x=bitcoin_sample['Date'] , \n",
    "              high =bitcoin_sample['High'] , \n",
    "              open = bitcoin_sample['Open'] , \n",
    "              close = bitcoin_sample['Close'] , \n",
    "              low = bitcoin_sample['Low'])"
   ]
  },
  {
   "cell_type": "code",
   "execution_count": null,
   "id": "87142353",
   "metadata": {},
   "outputs": [],
   "source": [
    "candle_data = [trace]\n",
    "\n",
    "layout = {\n",
    "    'title':'Bitcoin Historical Price' , \n",
    "    'xaxis':{'title':'Date'}\n",
    "}"
   ]
  },
  {
   "cell_type": "code",
   "execution_count": null,
   "id": "46fa109d",
   "metadata": {},
   "outputs": [],
   "source": [
    "fig = go.Figure(data = candle_data , layout=layout)\n",
    "\n",
    "fig.update_layout(xaxis_rangeslider_visible = False)\n",
    "fig.show()"
   ]
  },
  {
   "cell_type": "markdown",
   "id": "d77affe0",
   "metadata": {},
   "source": [
    "# 5. Analysing closing price (on normal scale & log-scale)"
   ]
  },
  {
   "cell_type": "code",
   "execution_count": null,
   "id": "a6a89da1",
   "metadata": {},
   "outputs": [],
   "source": [
    "data['Close']"
   ]
  },
  {
   "cell_type": "code",
   "execution_count": null,
   "id": "57c2c095",
   "metadata": {},
   "outputs": [],
   "source": [
    "data['Close'].plot()"
   ]
  },
  {
   "cell_type": "code",
   "execution_count": null,
   "id": "176af817",
   "metadata": {},
   "outputs": [],
   "source": [
    "### On above plot , Our x-indices are number , lets first set \"date\" as your index so that u will get date on \"x-indexes\"\n",
    "## as we are using pandas plot \"data['Close'].plot()\" , so for pandas plot our row indexes must be date .."
   ]
  },
  {
   "cell_type": "code",
   "execution_count": null,
   "id": "4dfcf007",
   "metadata": {},
   "outputs": [],
   "source": [
    "data.set_index('Date' , inplace=True)"
   ]
  },
  {
   "cell_type": "code",
   "execution_count": null,
   "id": "53ca7784",
   "metadata": {},
   "outputs": [],
   "source": [
    "data"
   ]
  },
  {
   "cell_type": "code",
   "execution_count": null,
   "id": "50ffa309",
   "metadata": {},
   "outputs": [],
   "source": [
    "data['Close'].plot()"
   ]
  },
  {
   "cell_type": "code",
   "execution_count": null,
   "id": "5eda98ea",
   "metadata": {},
   "outputs": [],
   "source": [
    "np.log1p(data['Close']).plot()"
   ]
  },
  {
   "cell_type": "code",
   "execution_count": null,
   "id": "e5e288da",
   "metadata": {},
   "outputs": [],
   "source": [
    "plt.figure(figsize=(20,6))\n",
    "\n",
    "plt.subplot(1,2,1)\n",
    "data['Close'].plot()\n",
    "plt.title('No scaling')\n",
    "\n",
    "plt.subplot(1,2,2)\n",
    "np.log1p(data['Close']).plot()\n",
    "plt.title('Log scaling')\n",
    "plt.yscale('log')"
   ]
  },
  {
   "cell_type": "code",
   "execution_count": null,
   "id": "f027d3c0",
   "metadata": {},
   "outputs": [],
   "source": [
    "### Logarithmic price scales are better than linear price scales at showing less severe price increases or decreases..\n",
    "\n",
    "### log scale is always better if u have outliers or some high values in data"
   ]
  },
  {
   "cell_type": "code",
   "execution_count": null,
   "id": "348c789c",
   "metadata": {},
   "outputs": [],
   "source": [
    "'''\n",
    "\n",
    "\n",
    "Some features of the plot above:\n",
    "\n",
    "    There is an up-ward trend from 2016 for each graph\n",
    "    There is no seasonality\n",
    "    There are no outliers\n",
    "\n",
    "\n",
    "'''"
   ]
  },
  {
   "cell_type": "markdown",
   "id": "62dec753",
   "metadata": {},
   "source": [
    "# 6. Analyse closing Price on Yearly , Quarterly , monthly basis !"
   ]
  },
  {
   "cell_type": "code",
   "execution_count": null,
   "id": "f1d66849",
   "metadata": {},
   "outputs": [],
   "source": [
    "'''\n",
    "    Before doing resampling , first u have to make your date feature 'row-index' so that u can resample it in a \n",
    "    a..yearly('Y')  , \n",
    "    b..quarterly('Q')   ,\n",
    "    c..monthly('M') ,\n",
    "    d..weekly basis ('W'), \n",
    "    e..Daily_basis('D')  \n",
    "    f..minutes ('3T') , \n",
    "    g..30 second bins('30S')   ,\n",
    "    h..resample('17min')\n",
    "    \n",
    "'''"
   ]
  },
  {
   "cell_type": "code",
   "execution_count": null,
   "id": "ba741d13",
   "metadata": {},
   "outputs": [],
   "source": [
    "data.head(4)"
   ]
  },
  {
   "cell_type": "code",
   "execution_count": null,
   "id": "7796b194",
   "metadata": {},
   "outputs": [],
   "source": [
    "## finding avg price of bitcoin on yearly basis ..\n",
    "\n",
    "data['Close'].resample('Y').mean()"
   ]
  },
  {
   "cell_type": "code",
   "execution_count": null,
   "id": "566876bd",
   "metadata": {},
   "outputs": [],
   "source": [
    "data['Close'].resample('Y').mean().plot()"
   ]
  },
  {
   "cell_type": "code",
   "execution_count": null,
   "id": "cfebbd60",
   "metadata": {},
   "outputs": [],
   "source": [
    "## finding avg price of bitcoin on quarterly basis ..\n",
    "\n",
    "data['Close'].resample('Q').mean()"
   ]
  },
  {
   "cell_type": "code",
   "execution_count": null,
   "id": "20438905",
   "metadata": {},
   "outputs": [],
   "source": [
    "data['Close'].resample('Q').mean().plot()"
   ]
  },
  {
   "cell_type": "code",
   "execution_count": null,
   "id": "d90d2dc6",
   "metadata": {},
   "outputs": [],
   "source": [
    "## finding avg price of bitcoin on monthly basis ..\n",
    "\n",
    "data['Close'].resample('M').mean()"
   ]
  },
  {
   "cell_type": "code",
   "execution_count": null,
   "id": "54e4bdf1",
   "metadata": {},
   "outputs": [],
   "source": [
    "data['Close'].resample('M').mean().plot()"
   ]
  },
  {
   "cell_type": "markdown",
   "id": "543e261b",
   "metadata": {},
   "source": [
    "# 7. analysing Daily change in Closing price of stocks"
   ]
  },
  {
   "cell_type": "markdown",
   "id": "19de8cda",
   "metadata": {},
   "source": [
    "##### Daily Stock Return Formula\n",
    "    To calculate how much you gained or lost per day for a stock, subtract the opening price from the closing price. Then, multiply the result by the number of shares you own in the company. "
   ]
  },
  {
   "cell_type": "code",
   "execution_count": null,
   "id": "c8b5bfec",
   "metadata": {},
   "outputs": [],
   "source": [
    "data['Close']"
   ]
  },
  {
   "cell_type": "code",
   "execution_count": null,
   "id": "55df48a4",
   "metadata": {},
   "outputs": [],
   "source": [
    "data['Close_price_pct_change'] = data['Close'].pct_change()*100"
   ]
  },
  {
   "cell_type": "code",
   "execution_count": null,
   "id": "c2350dc5",
   "metadata": {},
   "outputs": [],
   "source": [
    "data['Close_price_pct_change']"
   ]
  },
  {
   "cell_type": "code",
   "execution_count": null,
   "id": "3beb0802",
   "metadata": {},
   "outputs": [],
   "source": [
    "data['Close_price_pct_change'].plot()"
   ]
  },
  {
   "cell_type": "code",
   "execution_count": null,
   "id": "0ac7a8b4",
   "metadata": {},
   "outputs": [],
   "source": [
    "'''\n",
    "\n",
    "If u want to make this Pandas plot interactive , u can think of using cufflinks & Plotly \n",
    "\n",
    "\n",
    "'''"
   ]
  },
  {
   "cell_type": "code",
   "execution_count": null,
   "id": "e8f8e12f",
   "metadata": {},
   "outputs": [],
   "source": [
    "### establishing the entire set-up of Plotly.."
   ]
  },
  {
   "cell_type": "code",
   "execution_count": null,
   "id": "812b32d6",
   "metadata": {},
   "outputs": [],
   "source": [
    "import chart_studio.plotly as py\n",
    "## chart_studio provides a web-service for hosting graphs!\n",
    "\n",
    "import plotly.graph_objs as go\n",
    "\n",
    "import plotly.express as px\n",
    "\n",
    "from plotly.offline import download_plotlyjs , init_notebook_mode , plot , iplot\n",
    "init_notebook_mode(connected=True)\n",
    "\n",
    "## plot is a command of Matplotlib which is more old-school. It creates static charts\n",
    "## iplot() when working in a Jupyter Notebook to display the plot in the notebook.\n",
    "## iplot is an interactive plot. Plotly takes Python code and makes beautiful looking JavaScript plots."
   ]
  },
  {
   "cell_type": "code",
   "execution_count": null,
   "id": "a25158dc",
   "metadata": {},
   "outputs": [],
   "source": [
    "# !pip install cufflinks"
   ]
  },
  {
   "cell_type": "code",
   "execution_count": null,
   "id": "e620ee7a",
   "metadata": {},
   "outputs": [],
   "source": [
    "import cufflinks as cf"
   ]
  },
  {
   "cell_type": "code",
   "execution_count": null,
   "id": "d8bb2a07",
   "metadata": {},
   "outputs": [],
   "source": [
    "cf.go_offline()"
   ]
  },
  {
   "cell_type": "code",
   "execution_count": null,
   "id": "26b7d405",
   "metadata": {},
   "outputs": [],
   "source": [
    "data['Close_price_pct_change']"
   ]
  },
  {
   "cell_type": "code",
   "execution_count": null,
   "id": "5badee55",
   "metadata": {},
   "outputs": [],
   "source": [
    "type(data['Close_price_pct_change'])"
   ]
  },
  {
   "cell_type": "code",
   "execution_count": null,
   "id": "89dcf015",
   "metadata": {},
   "outputs": [],
   "source": [
    "data['Close_price_pct_change'].iplot()"
   ]
  },
  {
   "cell_type": "code",
   "execution_count": null,
   "id": "65e92ca8",
   "metadata": {},
   "outputs": [],
   "source": []
  }
 ],
 "metadata": {
  "kernelspec": {
   "display_name": "Python 3 (ipykernel)",
   "language": "python",
   "name": "python3"
  },
  "language_info": {
   "codemirror_mode": {
    "name": "ipython",
    "version": 3
   },
   "file_extension": ".py",
   "mimetype": "text/x-python",
   "name": "python",
   "nbconvert_exporter": "python",
   "pygments_lexer": "ipython3",
   "version": "3.11.5"
  }
 },
 "nbformat": 4,
 "nbformat_minor": 5
}
