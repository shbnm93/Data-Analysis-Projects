{
 "cells": [
  {
   "cell_type": "code",
   "execution_count": 1,
   "id": "5fe7c88d",
   "metadata": {},
   "outputs": [],
   "source": [
    "import pandas as pd\n",
    "import numpy as np\n",
    "import matplotlib.pyplot as plt\n",
    "import seaborn as sns"
   ]
  },
  {
   "cell_type": "code",
   "execution_count": 2,
   "id": "c3066821",
   "metadata": {},
   "outputs": [],
   "source": [
    "df = pd.read_csv(r\"C:\\Users\\Ali\\Desktop\\Data Analysis Projects\\ismek\\2019-2023-ismek-kesin-kayitli-kursiyer-verileri.csv\")"
   ]
  },
  {
   "cell_type": "code",
   "execution_count": 3,
   "id": "622c9610",
   "metadata": {},
   "outputs": [
    {
     "data": {
      "text/html": [
       "<div>\n",
       "<style scoped>\n",
       "    .dataframe tbody tr th:only-of-type {\n",
       "        vertical-align: middle;\n",
       "    }\n",
       "\n",
       "    .dataframe tbody tr th {\n",
       "        vertical-align: top;\n",
       "    }\n",
       "\n",
       "    .dataframe thead th {\n",
       "        text-align: right;\n",
       "    }\n",
       "</style>\n",
       "<table border=\"1\" class=\"dataframe\">\n",
       "  <thead>\n",
       "    <tr style=\"text-align: right;\">\n",
       "      <th></th>\n",
       "      <th>donem</th>\n",
       "      <th>egitim_durumu</th>\n",
       "      <th>engel_durumu</th>\n",
       "      <th>calisma_durumu</th>\n",
       "      <th>program</th>\n",
       "      <th>alan</th>\n",
       "      <th>hak_edilen_belge_tipi</th>\n",
       "      <th>kurs_merkezi</th>\n",
       "      <th>kurs_merkez_iilce</th>\n",
       "      <th>yas_araligi</th>\n",
       "    </tr>\n",
       "  </thead>\n",
       "  <tbody>\n",
       "    <tr>\n",
       "      <th>0</th>\n",
       "      <td>2019-2020</td>\n",
       "      <td>İlkokul</td>\n",
       "      <td>Engel Yok</td>\n",
       "      <td>Çalışmıyor</td>\n",
       "      <td>Illustrator Çizim Uygulamaları 3</td>\n",
       "      <td>Grafik ve Teknik Tasarım</td>\n",
       "      <td>Belge Alamadı</td>\n",
       "      <td>UZAKTAN EĞİTİM</td>\n",
       "      <td>ESENLER</td>\n",
       "      <td>30-40 Yaş Arası</td>\n",
       "    </tr>\n",
       "    <tr>\n",
       "      <th>1</th>\n",
       "      <td>2019-2020</td>\n",
       "      <td>Lisans</td>\n",
       "      <td>Engel Yok</td>\n",
       "      <td>Çalışmıyor</td>\n",
       "      <td>C# Programlamaya Giriş</td>\n",
       "      <td>Bilişim Teknolojileri</td>\n",
       "      <td>Belge Alamadı</td>\n",
       "      <td>UZAKTAN EĞİTİM</td>\n",
       "      <td>ESENLER</td>\n",
       "      <td>20-30 Yaş Arası</td>\n",
       "    </tr>\n",
       "    <tr>\n",
       "      <th>2</th>\n",
       "      <td>2019-2020</td>\n",
       "      <td>Lisans</td>\n",
       "      <td>Engel Yok</td>\n",
       "      <td>Çalışmıyor</td>\n",
       "      <td>Excel Makrolara Giriş</td>\n",
       "      <td>Bilişim Teknolojileri</td>\n",
       "      <td>Katılım</td>\n",
       "      <td>UZAKTAN EĞİTİM</td>\n",
       "      <td>ESENLER</td>\n",
       "      <td>20-30 Yaş Arası</td>\n",
       "    </tr>\n",
       "    <tr>\n",
       "      <th>3</th>\n",
       "      <td>2019-2020</td>\n",
       "      <td>İlkokul</td>\n",
       "      <td>Engel Yok</td>\n",
       "      <td>Çalışmıyor</td>\n",
       "      <td>İğne Oyası</td>\n",
       "      <td>El Sanatları Teknolojisi</td>\n",
       "      <td>Sertifika-Teslim Edilmedi</td>\n",
       "      <td>EYÜPSULTAN ESENTEPE</td>\n",
       "      <td>EYÜPSULTAN</td>\n",
       "      <td>50-60 Yaş Arası</td>\n",
       "    </tr>\n",
       "    <tr>\n",
       "      <th>4</th>\n",
       "      <td>2019-2020</td>\n",
       "      <td>Ön Lisans</td>\n",
       "      <td>Engel Yok</td>\n",
       "      <td>Çalışıyor</td>\n",
       "      <td>Algoritma ve Programlamaya Temelleri</td>\n",
       "      <td>Bilişim Teknolojileri</td>\n",
       "      <td>Belge Alamadı</td>\n",
       "      <td>UZAKTAN EĞİTİM</td>\n",
       "      <td>ESENLER</td>\n",
       "      <td>30-40 Yaş Arası</td>\n",
       "    </tr>\n",
       "    <tr>\n",
       "      <th>5</th>\n",
       "      <td>2019-2020</td>\n",
       "      <td>Lisans</td>\n",
       "      <td>Engel Yok</td>\n",
       "      <td>Öğrenci</td>\n",
       "      <td>Excel 2019 Kullanımı</td>\n",
       "      <td>Bilişim Teknolojileri</td>\n",
       "      <td>Belge Alamadı</td>\n",
       "      <td>UZAKTAN EĞİTİM</td>\n",
       "      <td>ESENLER</td>\n",
       "      <td>20-30 Yaş Arası</td>\n",
       "    </tr>\n",
       "    <tr>\n",
       "      <th>6</th>\n",
       "      <td>2019-2020</td>\n",
       "      <td>Lise</td>\n",
       "      <td>Engel Yok</td>\n",
       "      <td>Çalışmıyor</td>\n",
       "      <td>Hüsn-i Hat 1. Seviye</td>\n",
       "      <td>Sanat ve Tasarım</td>\n",
       "      <td>Belge Alamadı</td>\n",
       "      <td>EYÜPSULTAN YEŞİLPINAR</td>\n",
       "      <td>EYÜPSULTAN</td>\n",
       "      <td>60 Yaş Üstü</td>\n",
       "    </tr>\n",
       "    <tr>\n",
       "      <th>7</th>\n",
       "      <td>2019-2020</td>\n",
       "      <td>Meslek Lisesi</td>\n",
       "      <td>Engel Yok</td>\n",
       "      <td>Çalışmıyor</td>\n",
       "      <td>Klasik Gitar (12-16 Yaş)</td>\n",
       "      <td>Müzik ve Gösteri Sanatları</td>\n",
       "      <td>Belge Alamadı</td>\n",
       "      <td>K.ÇEKMECE SEFAKÖY</td>\n",
       "      <td>KÜÇÜKÇEKMECE</td>\n",
       "      <td>20 Yaş Altı</td>\n",
       "    </tr>\n",
       "    <tr>\n",
       "      <th>8</th>\n",
       "      <td>2019-2020</td>\n",
       "      <td>Ön Lisans</td>\n",
       "      <td>Engel Yok</td>\n",
       "      <td>Çalışmıyor</td>\n",
       "      <td>Algoritma ve Programlamaya Temelleri</td>\n",
       "      <td>Bilişim Teknolojileri</td>\n",
       "      <td>Belge Alamadı</td>\n",
       "      <td>UZAKTAN EĞİTİM</td>\n",
       "      <td>ESENLER</td>\n",
       "      <td>20-30 Yaş Arası</td>\n",
       "    </tr>\n",
       "    <tr>\n",
       "      <th>9</th>\n",
       "      <td>2019-2020</td>\n",
       "      <td>Lise</td>\n",
       "      <td>Engel Yok</td>\n",
       "      <td>Öğrenci</td>\n",
       "      <td>Turistik ve Hediyelik Eşya Yapımı</td>\n",
       "      <td>Tekstil Tasarımı</td>\n",
       "      <td>Belge Alamadı</td>\n",
       "      <td>PENDİK KAVAKPINAR</td>\n",
       "      <td>PENDİK</td>\n",
       "      <td>20-30 Yaş Arası</td>\n",
       "    </tr>\n",
       "  </tbody>\n",
       "</table>\n",
       "</div>"
      ],
      "text/plain": [
       "       donem  egitim_durumu engel_durumu calisma_durumu  \\\n",
       "0  2019-2020        İlkokul    Engel Yok     Çalışmıyor   \n",
       "1  2019-2020         Lisans    Engel Yok     Çalışmıyor   \n",
       "2  2019-2020         Lisans    Engel Yok     Çalışmıyor   \n",
       "3  2019-2020        İlkokul    Engel Yok     Çalışmıyor   \n",
       "4  2019-2020      Ön Lisans    Engel Yok      Çalışıyor   \n",
       "5  2019-2020         Lisans    Engel Yok        Öğrenci   \n",
       "6  2019-2020           Lise    Engel Yok     Çalışmıyor   \n",
       "7  2019-2020  Meslek Lisesi    Engel Yok     Çalışmıyor   \n",
       "8  2019-2020      Ön Lisans    Engel Yok     Çalışmıyor   \n",
       "9  2019-2020           Lise    Engel Yok        Öğrenci   \n",
       "\n",
       "                                program                        alan  \\\n",
       "0      Illustrator Çizim Uygulamaları 3    Grafik ve Teknik Tasarım   \n",
       "1                C# Programlamaya Giriş       Bilişim Teknolojileri   \n",
       "2                 Excel Makrolara Giriş       Bilişim Teknolojileri   \n",
       "3                            İğne Oyası    El Sanatları Teknolojisi   \n",
       "4  Algoritma ve Programlamaya Temelleri       Bilişim Teknolojileri   \n",
       "5                  Excel 2019 Kullanımı       Bilişim Teknolojileri   \n",
       "6                  Hüsn-i Hat 1. Seviye            Sanat ve Tasarım   \n",
       "7              Klasik Gitar (12-16 Yaş)  Müzik ve Gösteri Sanatları   \n",
       "8  Algoritma ve Programlamaya Temelleri       Bilişim Teknolojileri   \n",
       "9     Turistik ve Hediyelik Eşya Yapımı            Tekstil Tasarımı   \n",
       "\n",
       "       hak_edilen_belge_tipi           kurs_merkezi kurs_merkez_iilce  \\\n",
       "0              Belge Alamadı         UZAKTAN EĞİTİM           ESENLER   \n",
       "1              Belge Alamadı         UZAKTAN EĞİTİM           ESENLER   \n",
       "2                    Katılım         UZAKTAN EĞİTİM           ESENLER   \n",
       "3  Sertifika-Teslim Edilmedi    EYÜPSULTAN ESENTEPE        EYÜPSULTAN   \n",
       "4              Belge Alamadı         UZAKTAN EĞİTİM           ESENLER   \n",
       "5              Belge Alamadı         UZAKTAN EĞİTİM           ESENLER   \n",
       "6              Belge Alamadı  EYÜPSULTAN YEŞİLPINAR        EYÜPSULTAN   \n",
       "7              Belge Alamadı      K.ÇEKMECE SEFAKÖY      KÜÇÜKÇEKMECE   \n",
       "8              Belge Alamadı         UZAKTAN EĞİTİM           ESENLER   \n",
       "9              Belge Alamadı      PENDİK KAVAKPINAR            PENDİK   \n",
       "\n",
       "       yas_araligi  \n",
       "0  30-40 Yaş Arası  \n",
       "1  20-30 Yaş Arası  \n",
       "2  20-30 Yaş Arası  \n",
       "3  50-60 Yaş Arası  \n",
       "4  30-40 Yaş Arası  \n",
       "5  20-30 Yaş Arası  \n",
       "6      60 Yaş Üstü  \n",
       "7      20 Yaş Altı  \n",
       "8  20-30 Yaş Arası  \n",
       "9  20-30 Yaş Arası  "
      ]
     },
     "execution_count": 3,
     "metadata": {},
     "output_type": "execute_result"
    }
   ],
   "source": [
    "df.head(10)"
   ]
  },
  {
   "cell_type": "code",
   "execution_count": 4,
   "id": "c7c3b486",
   "metadata": {},
   "outputs": [
    {
     "data": {
      "text/plain": [
       "(337914, 10)"
      ]
     },
     "execution_count": 4,
     "metadata": {},
     "output_type": "execute_result"
    }
   ],
   "source": [
    "df.shape"
   ]
  },
  {
   "cell_type": "code",
   "execution_count": 5,
   "id": "4c3b4e4a",
   "metadata": {},
   "outputs": [
    {
     "data": {
      "text/plain": [
       "Index(['donem', 'egitim_durumu', 'engel_durumu', 'calisma_durumu', 'program',\n",
       "       'alan', 'hak_edilen_belge_tipi', 'kurs_merkezi', 'kurs_merkez_iilce',\n",
       "       'yas_araligi'],\n",
       "      dtype='object')"
      ]
     },
     "execution_count": 5,
     "metadata": {},
     "output_type": "execute_result"
    }
   ],
   "source": [
    "df.columns"
   ]
  },
  {
   "cell_type": "code",
   "execution_count": 6,
   "id": "2c366863",
   "metadata": {},
   "outputs": [
    {
     "data": {
      "text/plain": [
       "0         False\n",
       "1         False\n",
       "2         False\n",
       "3         False\n",
       "4         False\n",
       "          ...  \n",
       "337909     True\n",
       "337910    False\n",
       "337911     True\n",
       "337912     True\n",
       "337913    False\n",
       "Length: 337914, dtype: bool"
      ]
     },
     "execution_count": 6,
     "metadata": {},
     "output_type": "execute_result"
    }
   ],
   "source": [
    "df.duplicated()"
   ]
  },
  {
   "cell_type": "code",
   "execution_count": 7,
   "id": "3f67e818",
   "metadata": {},
   "outputs": [
    {
     "data": {
      "text/plain": [
       "218732"
      ]
     },
     "execution_count": 7,
     "metadata": {},
     "output_type": "execute_result"
    }
   ],
   "source": [
    "df.duplicated().sum()"
   ]
  },
  {
   "cell_type": "code",
   "execution_count": 8,
   "id": "06a95fdd",
   "metadata": {},
   "outputs": [],
   "source": [
    "df.drop_duplicates(inplace=True)"
   ]
  },
  {
   "cell_type": "code",
   "execution_count": 9,
   "id": "cb974c00",
   "metadata": {},
   "outputs": [
    {
     "data": {
      "text/plain": [
       "0"
      ]
     },
     "execution_count": 9,
     "metadata": {},
     "output_type": "execute_result"
    }
   ],
   "source": [
    "df.duplicated().sum()"
   ]
  },
  {
   "cell_type": "code",
   "execution_count": 10,
   "id": "1f781768",
   "metadata": {},
   "outputs": [
    {
     "data": {
      "text/plain": [
       "(119182, 10)"
      ]
     },
     "execution_count": 10,
     "metadata": {},
     "output_type": "execute_result"
    }
   ],
   "source": [
    "df.shape"
   ]
  },
  {
   "cell_type": "code",
   "execution_count": 11,
   "id": "aad87b64",
   "metadata": {},
   "outputs": [
    {
     "data": {
      "text/plain": [
       "donem                    object\n",
       "egitim_durumu            object\n",
       "engel_durumu             object\n",
       "calisma_durumu           object\n",
       "program                  object\n",
       "alan                     object\n",
       "hak_edilen_belge_tipi    object\n",
       "kurs_merkezi             object\n",
       "kurs_merkez_iilce        object\n",
       "yas_araligi              object\n",
       "dtype: object"
      ]
     },
     "execution_count": 11,
     "metadata": {},
     "output_type": "execute_result"
    }
   ],
   "source": [
    "df.dtypes"
   ]
  },
  {
   "cell_type": "code",
   "execution_count": 12,
   "id": "491d259f",
   "metadata": {},
   "outputs": [
    {
     "data": {
      "text/html": [
       "<div>\n",
       "<style scoped>\n",
       "    .dataframe tbody tr th:only-of-type {\n",
       "        vertical-align: middle;\n",
       "    }\n",
       "\n",
       "    .dataframe tbody tr th {\n",
       "        vertical-align: top;\n",
       "    }\n",
       "\n",
       "    .dataframe thead th {\n",
       "        text-align: right;\n",
       "    }\n",
       "</style>\n",
       "<table border=\"1\" class=\"dataframe\">\n",
       "  <thead>\n",
       "    <tr style=\"text-align: right;\">\n",
       "      <th></th>\n",
       "      <th>donem</th>\n",
       "      <th>egitim_durumu</th>\n",
       "      <th>engel_durumu</th>\n",
       "      <th>calisma_durumu</th>\n",
       "      <th>program</th>\n",
       "      <th>alan</th>\n",
       "      <th>hak_edilen_belge_tipi</th>\n",
       "      <th>kurs_merkezi</th>\n",
       "      <th>kurs_merkez_iilce</th>\n",
       "      <th>yas_araligi</th>\n",
       "    </tr>\n",
       "  </thead>\n",
       "  <tbody>\n",
       "    <tr>\n",
       "      <th>0</th>\n",
       "      <td>False</td>\n",
       "      <td>False</td>\n",
       "      <td>False</td>\n",
       "      <td>False</td>\n",
       "      <td>False</td>\n",
       "      <td>False</td>\n",
       "      <td>False</td>\n",
       "      <td>False</td>\n",
       "      <td>False</td>\n",
       "      <td>False</td>\n",
       "    </tr>\n",
       "    <tr>\n",
       "      <th>1</th>\n",
       "      <td>False</td>\n",
       "      <td>False</td>\n",
       "      <td>False</td>\n",
       "      <td>False</td>\n",
       "      <td>False</td>\n",
       "      <td>False</td>\n",
       "      <td>False</td>\n",
       "      <td>False</td>\n",
       "      <td>False</td>\n",
       "      <td>False</td>\n",
       "    </tr>\n",
       "    <tr>\n",
       "      <th>2</th>\n",
       "      <td>False</td>\n",
       "      <td>False</td>\n",
       "      <td>False</td>\n",
       "      <td>False</td>\n",
       "      <td>False</td>\n",
       "      <td>False</td>\n",
       "      <td>False</td>\n",
       "      <td>False</td>\n",
       "      <td>False</td>\n",
       "      <td>False</td>\n",
       "    </tr>\n",
       "    <tr>\n",
       "      <th>3</th>\n",
       "      <td>False</td>\n",
       "      <td>False</td>\n",
       "      <td>False</td>\n",
       "      <td>False</td>\n",
       "      <td>False</td>\n",
       "      <td>False</td>\n",
       "      <td>False</td>\n",
       "      <td>False</td>\n",
       "      <td>False</td>\n",
       "      <td>False</td>\n",
       "    </tr>\n",
       "    <tr>\n",
       "      <th>4</th>\n",
       "      <td>False</td>\n",
       "      <td>False</td>\n",
       "      <td>False</td>\n",
       "      <td>False</td>\n",
       "      <td>False</td>\n",
       "      <td>False</td>\n",
       "      <td>False</td>\n",
       "      <td>False</td>\n",
       "      <td>False</td>\n",
       "      <td>False</td>\n",
       "    </tr>\n",
       "    <tr>\n",
       "      <th>...</th>\n",
       "      <td>...</td>\n",
       "      <td>...</td>\n",
       "      <td>...</td>\n",
       "      <td>...</td>\n",
       "      <td>...</td>\n",
       "      <td>...</td>\n",
       "      <td>...</td>\n",
       "      <td>...</td>\n",
       "      <td>...</td>\n",
       "      <td>...</td>\n",
       "    </tr>\n",
       "    <tr>\n",
       "      <th>337896</th>\n",
       "      <td>False</td>\n",
       "      <td>False</td>\n",
       "      <td>False</td>\n",
       "      <td>False</td>\n",
       "      <td>False</td>\n",
       "      <td>False</td>\n",
       "      <td>False</td>\n",
       "      <td>False</td>\n",
       "      <td>False</td>\n",
       "      <td>False</td>\n",
       "    </tr>\n",
       "    <tr>\n",
       "      <th>337897</th>\n",
       "      <td>False</td>\n",
       "      <td>False</td>\n",
       "      <td>False</td>\n",
       "      <td>False</td>\n",
       "      <td>False</td>\n",
       "      <td>False</td>\n",
       "      <td>False</td>\n",
       "      <td>False</td>\n",
       "      <td>False</td>\n",
       "      <td>False</td>\n",
       "    </tr>\n",
       "    <tr>\n",
       "      <th>337898</th>\n",
       "      <td>False</td>\n",
       "      <td>False</td>\n",
       "      <td>False</td>\n",
       "      <td>False</td>\n",
       "      <td>False</td>\n",
       "      <td>False</td>\n",
       "      <td>False</td>\n",
       "      <td>False</td>\n",
       "      <td>False</td>\n",
       "      <td>False</td>\n",
       "    </tr>\n",
       "    <tr>\n",
       "      <th>337910</th>\n",
       "      <td>False</td>\n",
       "      <td>False</td>\n",
       "      <td>False</td>\n",
       "      <td>False</td>\n",
       "      <td>False</td>\n",
       "      <td>False</td>\n",
       "      <td>False</td>\n",
       "      <td>False</td>\n",
       "      <td>False</td>\n",
       "      <td>False</td>\n",
       "    </tr>\n",
       "    <tr>\n",
       "      <th>337913</th>\n",
       "      <td>False</td>\n",
       "      <td>False</td>\n",
       "      <td>False</td>\n",
       "      <td>False</td>\n",
       "      <td>False</td>\n",
       "      <td>False</td>\n",
       "      <td>False</td>\n",
       "      <td>False</td>\n",
       "      <td>False</td>\n",
       "      <td>False</td>\n",
       "    </tr>\n",
       "  </tbody>\n",
       "</table>\n",
       "<p>119182 rows × 10 columns</p>\n",
       "</div>"
      ],
      "text/plain": [
       "        donem  egitim_durumu  engel_durumu  calisma_durumu  program   alan  \\\n",
       "0       False          False         False           False    False  False   \n",
       "1       False          False         False           False    False  False   \n",
       "2       False          False         False           False    False  False   \n",
       "3       False          False         False           False    False  False   \n",
       "4       False          False         False           False    False  False   \n",
       "...       ...            ...           ...             ...      ...    ...   \n",
       "337896  False          False         False           False    False  False   \n",
       "337897  False          False         False           False    False  False   \n",
       "337898  False          False         False           False    False  False   \n",
       "337910  False          False         False           False    False  False   \n",
       "337913  False          False         False           False    False  False   \n",
       "\n",
       "        hak_edilen_belge_tipi  kurs_merkezi  kurs_merkez_iilce  yas_araligi  \n",
       "0                       False         False              False        False  \n",
       "1                       False         False              False        False  \n",
       "2                       False         False              False        False  \n",
       "3                       False         False              False        False  \n",
       "4                       False         False              False        False  \n",
       "...                       ...           ...                ...          ...  \n",
       "337896                  False         False              False        False  \n",
       "337897                  False         False              False        False  \n",
       "337898                  False         False              False        False  \n",
       "337910                  False         False              False        False  \n",
       "337913                  False         False              False        False  \n",
       "\n",
       "[119182 rows x 10 columns]"
      ]
     },
     "execution_count": 12,
     "metadata": {},
     "output_type": "execute_result"
    }
   ],
   "source": [
    "df.isnull()"
   ]
  },
  {
   "cell_type": "code",
   "execution_count": null,
   "id": "d45ff382",
   "metadata": {},
   "outputs": [],
   "source": [
    "df"
   ]
  }
 ],
 "metadata": {
  "kernelspec": {
   "display_name": "Python 3 (ipykernel)",
   "language": "python",
   "name": "python3"
  },
  "language_info": {
   "codemirror_mode": {
    "name": "ipython",
    "version": 3
   },
   "file_extension": ".py",
   "mimetype": "text/x-python",
   "name": "python",
   "nbconvert_exporter": "python",
   "pygments_lexer": "ipython3",
   "version": "3.11.5"
  }
 },
 "nbformat": 4,
 "nbformat_minor": 5
}
