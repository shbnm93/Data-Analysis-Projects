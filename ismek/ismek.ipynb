{
 "cells": [
  {
   "cell_type": "code",
   "execution_count": 1,
   "id": "c66bc6cf",
   "metadata": {},
   "outputs": [],
   "source": [
    "import pandas as pd\n",
    "import numpy as np\n",
    "import matplotlib.pyplot as plt\n",
    "import seaborn as sns"
   ]
  },
  {
   "cell_type": "code",
   "execution_count": 2,
   "id": "37cc6fb8",
   "metadata": {},
   "outputs": [],
   "source": [
    "df = pd.read_csv(r\"C:\\Users\\Ali\\Desktop\\Data Analysis Projects\\ismek\\2019-2023-ismek-kesin-kayitli-kursiyer-verileri.csv\")"
   ]
  },
  {
   "cell_type": "code",
   "execution_count": 3,
   "id": "02433c92",
   "metadata": {},
   "outputs": [
    {
     "data": {
      "text/html": [
       "<div>\n",
       "<style scoped>\n",
       "    .dataframe tbody tr th:only-of-type {\n",
       "        vertical-align: middle;\n",
       "    }\n",
       "\n",
       "    .dataframe tbody tr th {\n",
       "        vertical-align: top;\n",
       "    }\n",
       "\n",
       "    .dataframe thead th {\n",
       "        text-align: right;\n",
       "    }\n",
       "</style>\n",
       "<table border=\"1\" class=\"dataframe\">\n",
       "  <thead>\n",
       "    <tr style=\"text-align: right;\">\n",
       "      <th></th>\n",
       "      <th>donem</th>\n",
       "      <th>egitim_durumu</th>\n",
       "      <th>engel_durumu</th>\n",
       "      <th>calisma_durumu</th>\n",
       "      <th>program</th>\n",
       "      <th>alan</th>\n",
       "      <th>hak_edilen_belge_tipi</th>\n",
       "      <th>kurs_merkezi</th>\n",
       "      <th>kurs_merkez_iilce</th>\n",
       "      <th>yas_araligi</th>\n",
       "    </tr>\n",
       "  </thead>\n",
       "  <tbody>\n",
       "    <tr>\n",
       "      <th>0</th>\n",
       "      <td>2019-2020</td>\n",
       "      <td>İlkokul</td>\n",
       "      <td>Engel Yok</td>\n",
       "      <td>Çalışmıyor</td>\n",
       "      <td>Illustrator Çizim Uygulamaları 3</td>\n",
       "      <td>Grafik ve Teknik Tasarım</td>\n",
       "      <td>Belge Alamadı</td>\n",
       "      <td>UZAKTAN EĞİTİM</td>\n",
       "      <td>ESENLER</td>\n",
       "      <td>30-40 Yaş Arası</td>\n",
       "    </tr>\n",
       "    <tr>\n",
       "      <th>1</th>\n",
       "      <td>2019-2020</td>\n",
       "      <td>Lisans</td>\n",
       "      <td>Engel Yok</td>\n",
       "      <td>Çalışmıyor</td>\n",
       "      <td>C# Programlamaya Giriş</td>\n",
       "      <td>Bilişim Teknolojileri</td>\n",
       "      <td>Belge Alamadı</td>\n",
       "      <td>UZAKTAN EĞİTİM</td>\n",
       "      <td>ESENLER</td>\n",
       "      <td>20-30 Yaş Arası</td>\n",
       "    </tr>\n",
       "    <tr>\n",
       "      <th>2</th>\n",
       "      <td>2019-2020</td>\n",
       "      <td>Lisans</td>\n",
       "      <td>Engel Yok</td>\n",
       "      <td>Çalışmıyor</td>\n",
       "      <td>Excel Makrolara Giriş</td>\n",
       "      <td>Bilişim Teknolojileri</td>\n",
       "      <td>Katılım</td>\n",
       "      <td>UZAKTAN EĞİTİM</td>\n",
       "      <td>ESENLER</td>\n",
       "      <td>20-30 Yaş Arası</td>\n",
       "    </tr>\n",
       "    <tr>\n",
       "      <th>3</th>\n",
       "      <td>2019-2020</td>\n",
       "      <td>İlkokul</td>\n",
       "      <td>Engel Yok</td>\n",
       "      <td>Çalışmıyor</td>\n",
       "      <td>İğne Oyası</td>\n",
       "      <td>El Sanatları Teknolojisi</td>\n",
       "      <td>Sertifika-Teslim Edilmedi</td>\n",
       "      <td>EYÜPSULTAN ESENTEPE</td>\n",
       "      <td>EYÜPSULTAN</td>\n",
       "      <td>50-60 Yaş Arası</td>\n",
       "    </tr>\n",
       "    <tr>\n",
       "      <th>4</th>\n",
       "      <td>2019-2020</td>\n",
       "      <td>Ön Lisans</td>\n",
       "      <td>Engel Yok</td>\n",
       "      <td>Çalışıyor</td>\n",
       "      <td>Algoritma ve Programlamaya Temelleri</td>\n",
       "      <td>Bilişim Teknolojileri</td>\n",
       "      <td>Belge Alamadı</td>\n",
       "      <td>UZAKTAN EĞİTİM</td>\n",
       "      <td>ESENLER</td>\n",
       "      <td>30-40 Yaş Arası</td>\n",
       "    </tr>\n",
       "    <tr>\n",
       "      <th>5</th>\n",
       "      <td>2019-2020</td>\n",
       "      <td>Lisans</td>\n",
       "      <td>Engel Yok</td>\n",
       "      <td>Öğrenci</td>\n",
       "      <td>Excel 2019 Kullanımı</td>\n",
       "      <td>Bilişim Teknolojileri</td>\n",
       "      <td>Belge Alamadı</td>\n",
       "      <td>UZAKTAN EĞİTİM</td>\n",
       "      <td>ESENLER</td>\n",
       "      <td>20-30 Yaş Arası</td>\n",
       "    </tr>\n",
       "    <tr>\n",
       "      <th>6</th>\n",
       "      <td>2019-2020</td>\n",
       "      <td>Lise</td>\n",
       "      <td>Engel Yok</td>\n",
       "      <td>Çalışmıyor</td>\n",
       "      <td>Hüsn-i Hat 1. Seviye</td>\n",
       "      <td>Sanat ve Tasarım</td>\n",
       "      <td>Belge Alamadı</td>\n",
       "      <td>EYÜPSULTAN YEŞİLPINAR</td>\n",
       "      <td>EYÜPSULTAN</td>\n",
       "      <td>60 Yaş Üstü</td>\n",
       "    </tr>\n",
       "    <tr>\n",
       "      <th>7</th>\n",
       "      <td>2019-2020</td>\n",
       "      <td>Meslek Lisesi</td>\n",
       "      <td>Engel Yok</td>\n",
       "      <td>Çalışmıyor</td>\n",
       "      <td>Klasik Gitar (12-16 Yaş)</td>\n",
       "      <td>Müzik ve Gösteri Sanatları</td>\n",
       "      <td>Belge Alamadı</td>\n",
       "      <td>K.ÇEKMECE SEFAKÖY</td>\n",
       "      <td>KÜÇÜKÇEKMECE</td>\n",
       "      <td>20 Yaş Altı</td>\n",
       "    </tr>\n",
       "    <tr>\n",
       "      <th>8</th>\n",
       "      <td>2019-2020</td>\n",
       "      <td>Ön Lisans</td>\n",
       "      <td>Engel Yok</td>\n",
       "      <td>Çalışmıyor</td>\n",
       "      <td>Algoritma ve Programlamaya Temelleri</td>\n",
       "      <td>Bilişim Teknolojileri</td>\n",
       "      <td>Belge Alamadı</td>\n",
       "      <td>UZAKTAN EĞİTİM</td>\n",
       "      <td>ESENLER</td>\n",
       "      <td>20-30 Yaş Arası</td>\n",
       "    </tr>\n",
       "    <tr>\n",
       "      <th>9</th>\n",
       "      <td>2019-2020</td>\n",
       "      <td>Lise</td>\n",
       "      <td>Engel Yok</td>\n",
       "      <td>Öğrenci</td>\n",
       "      <td>Turistik ve Hediyelik Eşya Yapımı</td>\n",
       "      <td>Tekstil Tasarımı</td>\n",
       "      <td>Belge Alamadı</td>\n",
       "      <td>PENDİK KAVAKPINAR</td>\n",
       "      <td>PENDİK</td>\n",
       "      <td>20-30 Yaş Arası</td>\n",
       "    </tr>\n",
       "  </tbody>\n",
       "</table>\n",
       "</div>"
      ],
      "text/plain": [
       "       donem  egitim_durumu engel_durumu calisma_durumu  \\\n",
       "0  2019-2020        İlkokul    Engel Yok     Çalışmıyor   \n",
       "1  2019-2020         Lisans    Engel Yok     Çalışmıyor   \n",
       "2  2019-2020         Lisans    Engel Yok     Çalışmıyor   \n",
       "3  2019-2020        İlkokul    Engel Yok     Çalışmıyor   \n",
       "4  2019-2020      Ön Lisans    Engel Yok      Çalışıyor   \n",
       "5  2019-2020         Lisans    Engel Yok        Öğrenci   \n",
       "6  2019-2020           Lise    Engel Yok     Çalışmıyor   \n",
       "7  2019-2020  Meslek Lisesi    Engel Yok     Çalışmıyor   \n",
       "8  2019-2020      Ön Lisans    Engel Yok     Çalışmıyor   \n",
       "9  2019-2020           Lise    Engel Yok        Öğrenci   \n",
       "\n",
       "                                program                        alan  \\\n",
       "0      Illustrator Çizim Uygulamaları 3    Grafik ve Teknik Tasarım   \n",
       "1                C# Programlamaya Giriş       Bilişim Teknolojileri   \n",
       "2                 Excel Makrolara Giriş       Bilişim Teknolojileri   \n",
       "3                            İğne Oyası    El Sanatları Teknolojisi   \n",
       "4  Algoritma ve Programlamaya Temelleri       Bilişim Teknolojileri   \n",
       "5                  Excel 2019 Kullanımı       Bilişim Teknolojileri   \n",
       "6                  Hüsn-i Hat 1. Seviye            Sanat ve Tasarım   \n",
       "7              Klasik Gitar (12-16 Yaş)  Müzik ve Gösteri Sanatları   \n",
       "8  Algoritma ve Programlamaya Temelleri       Bilişim Teknolojileri   \n",
       "9     Turistik ve Hediyelik Eşya Yapımı            Tekstil Tasarımı   \n",
       "\n",
       "       hak_edilen_belge_tipi           kurs_merkezi kurs_merkez_iilce  \\\n",
       "0              Belge Alamadı         UZAKTAN EĞİTİM           ESENLER   \n",
       "1              Belge Alamadı         UZAKTAN EĞİTİM           ESENLER   \n",
       "2                    Katılım         UZAKTAN EĞİTİM           ESENLER   \n",
       "3  Sertifika-Teslim Edilmedi    EYÜPSULTAN ESENTEPE        EYÜPSULTAN   \n",
       "4              Belge Alamadı         UZAKTAN EĞİTİM           ESENLER   \n",
       "5              Belge Alamadı         UZAKTAN EĞİTİM           ESENLER   \n",
       "6              Belge Alamadı  EYÜPSULTAN YEŞİLPINAR        EYÜPSULTAN   \n",
       "7              Belge Alamadı      K.ÇEKMECE SEFAKÖY      KÜÇÜKÇEKMECE   \n",
       "8              Belge Alamadı         UZAKTAN EĞİTİM           ESENLER   \n",
       "9              Belge Alamadı      PENDİK KAVAKPINAR            PENDİK   \n",
       "\n",
       "       yas_araligi  \n",
       "0  30-40 Yaş Arası  \n",
       "1  20-30 Yaş Arası  \n",
       "2  20-30 Yaş Arası  \n",
       "3  50-60 Yaş Arası  \n",
       "4  30-40 Yaş Arası  \n",
       "5  20-30 Yaş Arası  \n",
       "6      60 Yaş Üstü  \n",
       "7      20 Yaş Altı  \n",
       "8  20-30 Yaş Arası  \n",
       "9  20-30 Yaş Arası  "
      ]
     },
     "execution_count": 3,
     "metadata": {},
     "output_type": "execute_result"
    }
   ],
   "source": [
    "df.head(10)"
   ]
  },
  {
   "cell_type": "code",
   "execution_count": 4,
   "id": "0184529a",
   "metadata": {},
   "outputs": [
    {
     "data": {
      "text/plain": [
       "(337914, 10)"
      ]
     },
     "execution_count": 4,
     "metadata": {},
     "output_type": "execute_result"
    }
   ],
   "source": [
    "df.shape"
   ]
  },
  {
   "cell_type": "code",
   "execution_count": 5,
   "id": "affe11f4",
   "metadata": {},
   "outputs": [
    {
     "data": {
      "text/plain": [
       "Index(['donem', 'egitim_durumu', 'engel_durumu', 'calisma_durumu', 'program',\n",
       "       'alan', 'hak_edilen_belge_tipi', 'kurs_merkezi', 'kurs_merkez_iilce',\n",
       "       'yas_araligi'],\n",
       "      dtype='object')"
      ]
     },
     "execution_count": 5,
     "metadata": {},
     "output_type": "execute_result"
    }
   ],
   "source": [
    "df.columns"
   ]
  },
  {
   "cell_type": "code",
   "execution_count": 6,
   "id": "6bcb9b89",
   "metadata": {},
   "outputs": [
    {
     "data": {
      "text/plain": [
       "0         False\n",
       "1         False\n",
       "2         False\n",
       "3         False\n",
       "4         False\n",
       "          ...  \n",
       "337909     True\n",
       "337910    False\n",
       "337911     True\n",
       "337912     True\n",
       "337913    False\n",
       "Length: 337914, dtype: bool"
      ]
     },
     "execution_count": 6,
     "metadata": {},
     "output_type": "execute_result"
    }
   ],
   "source": [
    "df.duplicated()"
   ]
  },
  {
   "cell_type": "code",
   "execution_count": 7,
   "id": "9b403e44",
   "metadata": {},
   "outputs": [
    {
     "data": {
      "text/plain": [
       "218732"
      ]
     },
     "execution_count": 7,
     "metadata": {},
     "output_type": "execute_result"
    }
   ],
   "source": [
    "df.duplicated().sum()"
   ]
  },
  {
   "cell_type": "code",
   "execution_count": 8,
   "id": "1a0d4b6a",
   "metadata": {},
   "outputs": [],
   "source": [
    "df.drop_duplicates(inplace=True)"
   ]
  },
  {
   "cell_type": "code",
   "execution_count": 9,
   "id": "5e809575",
   "metadata": {},
   "outputs": [
    {
     "data": {
      "text/plain": [
       "0"
      ]
     },
     "execution_count": 9,
     "metadata": {},
     "output_type": "execute_result"
    }
   ],
   "source": [
    "df.duplicated().sum()"
   ]
  },
  {
   "cell_type": "code",
   "execution_count": 10,
   "id": "a1d5870a",
   "metadata": {},
   "outputs": [
    {
     "data": {
      "text/plain": [
       "(119182, 10)"
      ]
     },
     "execution_count": 10,
     "metadata": {},
     "output_type": "execute_result"
    }
   ],
   "source": [
    "df.shape"
   ]
  },
  {
   "cell_type": "code",
   "execution_count": 11,
   "id": "65e95264",
   "metadata": {},
   "outputs": [
    {
     "data": {
      "text/plain": [
       "donem                    object\n",
       "egitim_durumu            object\n",
       "engel_durumu             object\n",
       "calisma_durumu           object\n",
       "program                  object\n",
       "alan                     object\n",
       "hak_edilen_belge_tipi    object\n",
       "kurs_merkezi             object\n",
       "kurs_merkez_iilce        object\n",
       "yas_araligi              object\n",
       "dtype: object"
      ]
     },
     "execution_count": 11,
     "metadata": {},
     "output_type": "execute_result"
    }
   ],
   "source": [
    "df.dtypes"
   ]
  },
  {
   "cell_type": "code",
   "execution_count": 12,
   "id": "97b2b2ab",
   "metadata": {},
   "outputs": [
    {
     "data": {
      "text/html": [
       "<div>\n",
       "<style scoped>\n",
       "    .dataframe tbody tr th:only-of-type {\n",
       "        vertical-align: middle;\n",
       "    }\n",
       "\n",
       "    .dataframe tbody tr th {\n",
       "        vertical-align: top;\n",
       "    }\n",
       "\n",
       "    .dataframe thead th {\n",
       "        text-align: right;\n",
       "    }\n",
       "</style>\n",
       "<table border=\"1\" class=\"dataframe\">\n",
       "  <thead>\n",
       "    <tr style=\"text-align: right;\">\n",
       "      <th></th>\n",
       "      <th>donem</th>\n",
       "      <th>egitim_durumu</th>\n",
       "      <th>engel_durumu</th>\n",
       "      <th>calisma_durumu</th>\n",
       "      <th>program</th>\n",
       "      <th>alan</th>\n",
       "      <th>hak_edilen_belge_tipi</th>\n",
       "      <th>kurs_merkezi</th>\n",
       "      <th>kurs_merkez_iilce</th>\n",
       "      <th>yas_araligi</th>\n",
       "    </tr>\n",
       "  </thead>\n",
       "  <tbody>\n",
       "    <tr>\n",
       "      <th>0</th>\n",
       "      <td>False</td>\n",
       "      <td>False</td>\n",
       "      <td>False</td>\n",
       "      <td>False</td>\n",
       "      <td>False</td>\n",
       "      <td>False</td>\n",
       "      <td>False</td>\n",
       "      <td>False</td>\n",
       "      <td>False</td>\n",
       "      <td>False</td>\n",
       "    </tr>\n",
       "    <tr>\n",
       "      <th>1</th>\n",
       "      <td>False</td>\n",
       "      <td>False</td>\n",
       "      <td>False</td>\n",
       "      <td>False</td>\n",
       "      <td>False</td>\n",
       "      <td>False</td>\n",
       "      <td>False</td>\n",
       "      <td>False</td>\n",
       "      <td>False</td>\n",
       "      <td>False</td>\n",
       "    </tr>\n",
       "    <tr>\n",
       "      <th>2</th>\n",
       "      <td>False</td>\n",
       "      <td>False</td>\n",
       "      <td>False</td>\n",
       "      <td>False</td>\n",
       "      <td>False</td>\n",
       "      <td>False</td>\n",
       "      <td>False</td>\n",
       "      <td>False</td>\n",
       "      <td>False</td>\n",
       "      <td>False</td>\n",
       "    </tr>\n",
       "    <tr>\n",
       "      <th>3</th>\n",
       "      <td>False</td>\n",
       "      <td>False</td>\n",
       "      <td>False</td>\n",
       "      <td>False</td>\n",
       "      <td>False</td>\n",
       "      <td>False</td>\n",
       "      <td>False</td>\n",
       "      <td>False</td>\n",
       "      <td>False</td>\n",
       "      <td>False</td>\n",
       "    </tr>\n",
       "    <tr>\n",
       "      <th>4</th>\n",
       "      <td>False</td>\n",
       "      <td>False</td>\n",
       "      <td>False</td>\n",
       "      <td>False</td>\n",
       "      <td>False</td>\n",
       "      <td>False</td>\n",
       "      <td>False</td>\n",
       "      <td>False</td>\n",
       "      <td>False</td>\n",
       "      <td>False</td>\n",
       "    </tr>\n",
       "    <tr>\n",
       "      <th>...</th>\n",
       "      <td>...</td>\n",
       "      <td>...</td>\n",
       "      <td>...</td>\n",
       "      <td>...</td>\n",
       "      <td>...</td>\n",
       "      <td>...</td>\n",
       "      <td>...</td>\n",
       "      <td>...</td>\n",
       "      <td>...</td>\n",
       "      <td>...</td>\n",
       "    </tr>\n",
       "    <tr>\n",
       "      <th>337896</th>\n",
       "      <td>False</td>\n",
       "      <td>False</td>\n",
       "      <td>False</td>\n",
       "      <td>False</td>\n",
       "      <td>False</td>\n",
       "      <td>False</td>\n",
       "      <td>False</td>\n",
       "      <td>False</td>\n",
       "      <td>False</td>\n",
       "      <td>False</td>\n",
       "    </tr>\n",
       "    <tr>\n",
       "      <th>337897</th>\n",
       "      <td>False</td>\n",
       "      <td>False</td>\n",
       "      <td>False</td>\n",
       "      <td>False</td>\n",
       "      <td>False</td>\n",
       "      <td>False</td>\n",
       "      <td>False</td>\n",
       "      <td>False</td>\n",
       "      <td>False</td>\n",
       "      <td>False</td>\n",
       "    </tr>\n",
       "    <tr>\n",
       "      <th>337898</th>\n",
       "      <td>False</td>\n",
       "      <td>False</td>\n",
       "      <td>False</td>\n",
       "      <td>False</td>\n",
       "      <td>False</td>\n",
       "      <td>False</td>\n",
       "      <td>False</td>\n",
       "      <td>False</td>\n",
       "      <td>False</td>\n",
       "      <td>False</td>\n",
       "    </tr>\n",
       "    <tr>\n",
       "      <th>337910</th>\n",
       "      <td>False</td>\n",
       "      <td>False</td>\n",
       "      <td>False</td>\n",
       "      <td>False</td>\n",
       "      <td>False</td>\n",
       "      <td>False</td>\n",
       "      <td>False</td>\n",
       "      <td>False</td>\n",
       "      <td>False</td>\n",
       "      <td>False</td>\n",
       "    </tr>\n",
       "    <tr>\n",
       "      <th>337913</th>\n",
       "      <td>False</td>\n",
       "      <td>False</td>\n",
       "      <td>False</td>\n",
       "      <td>False</td>\n",
       "      <td>False</td>\n",
       "      <td>False</td>\n",
       "      <td>False</td>\n",
       "      <td>False</td>\n",
       "      <td>False</td>\n",
       "      <td>False</td>\n",
       "    </tr>\n",
       "  </tbody>\n",
       "</table>\n",
       "<p>119182 rows × 10 columns</p>\n",
       "</div>"
      ],
      "text/plain": [
       "        donem  egitim_durumu  engel_durumu  calisma_durumu  program   alan  \\\n",
       "0       False          False         False           False    False  False   \n",
       "1       False          False         False           False    False  False   \n",
       "2       False          False         False           False    False  False   \n",
       "3       False          False         False           False    False  False   \n",
       "4       False          False         False           False    False  False   \n",
       "...       ...            ...           ...             ...      ...    ...   \n",
       "337896  False          False         False           False    False  False   \n",
       "337897  False          False         False           False    False  False   \n",
       "337898  False          False         False           False    False  False   \n",
       "337910  False          False         False           False    False  False   \n",
       "337913  False          False         False           False    False  False   \n",
       "\n",
       "        hak_edilen_belge_tipi  kurs_merkezi  kurs_merkez_iilce  yas_araligi  \n",
       "0                       False         False              False        False  \n",
       "1                       False         False              False        False  \n",
       "2                       False         False              False        False  \n",
       "3                       False         False              False        False  \n",
       "4                       False         False              False        False  \n",
       "...                       ...           ...                ...          ...  \n",
       "337896                  False         False              False        False  \n",
       "337897                  False         False              False        False  \n",
       "337898                  False         False              False        False  \n",
       "337910                  False         False              False        False  \n",
       "337913                  False         False              False        False  \n",
       "\n",
       "[119182 rows x 10 columns]"
      ]
     },
     "execution_count": 12,
     "metadata": {},
     "output_type": "execute_result"
    }
   ],
   "source": [
    "df.isnull()"
   ]
  },
  {
   "cell_type": "code",
   "execution_count": 13,
   "id": "b50f6f90",
   "metadata": {},
   "outputs": [
    {
     "data": {
      "text/plain": [
       "donem                    0\n",
       "egitim_durumu            0\n",
       "engel_durumu             0\n",
       "calisma_durumu           0\n",
       "program                  0\n",
       "alan                     0\n",
       "hak_edilen_belge_tipi    0\n",
       "kurs_merkezi             0\n",
       "kurs_merkez_iilce        1\n",
       "yas_araligi              0\n",
       "dtype: int64"
      ]
     },
     "execution_count": 13,
     "metadata": {},
     "output_type": "execute_result"
    }
   ],
   "source": [
    "df.isnull().sum()"
   ]
  },
  {
   "cell_type": "code",
   "execution_count": 14,
   "id": "b7b3c752",
   "metadata": {},
   "outputs": [],
   "source": [
    "df = df.dropna()"
   ]
  },
  {
   "cell_type": "code",
   "execution_count": 15,
   "id": "38b56df5",
   "metadata": {},
   "outputs": [
    {
     "data": {
      "text/plain": [
       "donem                    0\n",
       "egitim_durumu            0\n",
       "engel_durumu             0\n",
       "calisma_durumu           0\n",
       "program                  0\n",
       "alan                     0\n",
       "hak_edilen_belge_tipi    0\n",
       "kurs_merkezi             0\n",
       "kurs_merkez_iilce        0\n",
       "yas_araligi              0\n",
       "dtype: int64"
      ]
     },
     "execution_count": 15,
     "metadata": {},
     "output_type": "execute_result"
    }
   ],
   "source": [
    "df.isnull().sum()"
   ]
  },
  {
   "cell_type": "code",
   "execution_count": 16,
   "id": "46af29a7",
   "metadata": {},
   "outputs": [
    {
     "data": {
      "text/plain": [
       "(119181, 10)"
      ]
     },
     "execution_count": 16,
     "metadata": {},
     "output_type": "execute_result"
    }
   ],
   "source": [
    "df.shape"
   ]
  },
  {
   "cell_type": "code",
   "execution_count": 17,
   "id": "cefac4e9",
   "metadata": {},
   "outputs": [
    {
     "name": "stdout",
     "output_type": "stream",
     "text": [
      "\n",
      " donem\n",
      "2022-2023    49168\n",
      "2021-2022    33216\n",
      "2019-2020    22548\n",
      "2020-2021    14249\n",
      "Name: count, dtype: int64\n",
      "\n",
      " egitim_durumu\n",
      "Lisans                    33222\n",
      "Lise                      28621\n",
      "Ön Lisans                 20162\n",
      "Yüksek Lisans             10018\n",
      "İlkokul                    8622\n",
      "İlköğretim                 8104\n",
      "Meslek Lisesi              6792\n",
      "Okur Yazar                 1687\n",
      "Doktora                    1595\n",
      "Okuma Yazma Bilmiyorum      358\n",
      "Name: count, dtype: int64\n",
      "\n",
      " engel_durumu\n",
      "Engel Yok          114622\n",
      "Süreğen              1643\n",
      "Ortopedik            1409\n",
      "İşitme                670\n",
      "Görme                 507\n",
      "Konuşma Güçlüğü       330\n",
      "Name: count, dtype: int64\n",
      "\n",
      " calisma_durumu\n",
      "Çalışmıyor    59219\n",
      "Çalışıyor     31545\n",
      "Öğrenci       21732\n",
      "Emekli         6600\n",
      "Bos              85\n",
      "Name: count, dtype: int64\n",
      "\n",
      " program\n",
      "Diksiyon                                       2060\n",
      "Giyim Üretiminde Temel İşlemler                1439\n",
      "Bilgisayar İşletmenliği (Operatörlüğü)         1382\n",
      "İngilizce A1 Seviyesi                          1289\n",
      "İngilizce A2 Seviyesi (Elementary)             1202\n",
      "                                               ... \n",
      "Nmap ve Wireshark ile Ağ Güvenliği Atölyesi       1\n",
      "Kışlık Aksesuar Örme Atölyesi                     1\n",
      "Gümüş Takıda Aksesuar Yapımı                      1\n",
      "Osmanlı Diplomatikası ve Paleografyası 1          1\n",
      "Satış ve İletişim Teknikleri                      1\n",
      "Name: count, Length: 1739, dtype: int64\n",
      "\n",
      " alan\n",
      "Bilişim Teknolojileri                   21220\n",
      "Dil Eğitimleri                          12515\n",
      "Moda Tasarımı ve Tekstil Teknolojisi    11235\n",
      "Gastronomi ve Mutfak Sanatları           9663\n",
      "Kişisel Gelişim ve Eğitim                9075\n",
      "Örgü ve İşleme Sanatları                 7509\n",
      "Güzellik ve Saç Bakım Hizmetleri         5904\n",
      "Yönetim ve Hizmet                        5647\n",
      "Sanat ve Tasarım                         4557\n",
      "Müzik                                    3097\n",
      "Tekstil Tasarımı                         2818\n",
      "Spor                                     2798\n",
      "Görsel İletişim ve Grafik Tasarım        2775\n",
      "Muhasebe ve Finans                       2481\n",
      "Grafik ve Teknik Tasarım                 2221\n",
      "Çocuk Gelişimi ve Eğitimi                2056\n",
      "Ziraat                                   1890\n",
      "Süsleme Sanatları                        1631\n",
      "El Sanatları Teknolojisi                 1585\n",
      "Kuyumculuk ve Takı Tasarımı              1214\n",
      "Teknik Tasarım                           1175\n",
      "Ahşap Tasarımı ve Teknolojileri          1149\n",
      "Dekoratif El Ürünleri Yapımı             1131\n",
      "Robotik ve İnovasyon                      902\n",
      "Sahne Sanatları                           803\n",
      "Yabancı Diller                            477\n",
      "Müzik ve Gösteri Sanatları                406\n",
      "Sahne ve Gösteri Sanatları                183\n",
      "Sunucu Kurulumu ve Sistem Yedekleme       161\n",
      "Yiyecek İçecek Hizmetleri                 111\n",
      "Medya ve İletişim                         104\n",
      "Giyim Üretim Teknolojileri                 83\n",
      "Hasta ve Yaşlı Hizmetleri                  80\n",
      "Ses ve Diksiyon                            62\n",
      "Photoshop                                  53\n",
      "Bahçecilik                                 46\n",
      "Büro Yönetim ve Sekreterlik                46\n",
      "Site ve Toplu Yapı Yöneticiliği            39\n",
      "Grafik ve Fotoğraf                         39\n",
      "Turizm ve Otelcilik                        39\n",
      "CCNA-2)                                    30\n",
      "Tasarım ve NFT Eser Semineri               23\n",
      "Adobe Photoshop                            19\n",
      "Bahçe ve Koruların Bakımı                  19\n",
      "Kuyumculuk Teknolojisi                     19\n",
      "Spikerlik ve Sunuculuk                     14\n",
      "Tarihi ve Kültürel Hafızası                13\n",
      "Gıda Teknolojisi                           13\n",
      "Ses ve Diksiyon Atölyesi                   12\n",
      "Aile ve Tüketici Bilimleri                 10\n",
      "E-Defter                                    6\n",
      "Tekstil Teknolojisi                         6\n",
      "Horon                                       5\n",
      "Mesleki Teknik Eğitimler                    4\n",
      "Hicaz                                       3\n",
      "Seramik ve Cam                              3\n",
      "Tarih ve Kültürel Çalışmalar                2\n",
      "Name: count, dtype: int64\n",
      "\n",
      " hak_edilen_belge_tipi\n",
      "Belge Alamadı                55170\n",
      "Katılım                      44061\n",
      "Sertifika-Teslim Edilmedi    17547\n",
      "Sertifika-Teslim Edildi       1942\n",
      "Bilişim Teknolojileri          191\n",
      "Sahne Sanatları                 74\n",
      "Illustrator)                    53\n",
      "Yönetim ve Hizmet               39\n",
      "Kişisel Gelişim ve Eğitim       38\n",
      "Adobe İllustrator)              19\n",
      "Ziraat                          19\n",
      "Medya ve İletişim               14\n",
      "E-Arşiv) Semineri                6\n",
      "Halay                            5\n",
      "Müzik                            3\n",
      "Name: count, dtype: int64\n",
      "\n",
      " kurs_merkezi\n",
      "UZAKTAN EĞİTİM                                                                              46621\n",
      "DİL OKULU / ŞİŞLİ                                                                            1185\n",
      "MÜZİK VE GÖSTERİ SANATLARI OKULU / KADIKÖY                                                   1176\n",
      "K.ÇEKMECE SEFAKÖY                                                                             938\n",
      "BAKIRKÖY CEVİZLİK                                                                             923\n",
      "                                                                                            ...  \n",
      "KARTAL DR. LÜTFİ KIRDAR EĞİTİM ARAŞTIRMA HASTANESİ ADATEPE TOPLUM VE RUH SAĞLIĞI MERKEZİ        1\n",
      "İBB BOĞAZİÇİ YÖNETİM KADIKÖY                                                                    1\n",
      "ÖZGEM BAHÇELİEVLER                                                                              1\n",
      "İBB GENÇLİK MECLİSİ                                                                             1\n",
      "SOSYAL HİZMETLER MÜDÜRLÜĞÜ MAHALLE EVİ BEYOĞLU                                                  1\n",
      "Name: count, Length: 270, dtype: int64\n",
      "\n",
      " kurs_merkez_iilce\n",
      "ESENLER                 48830\n",
      "PENDİK                   4296\n",
      "ŞİŞLİ                    4009\n",
      "ÜSKÜDAR                  3907\n",
      "KÜÇÜKÇEKMECE             3846\n",
      "                        ...  \n",
      "ADALAR BÜYÜKADA             2\n",
      "SARIYER AYAZAĞA             1\n",
      "TUZLA AYDINTEPE             1\n",
      "PENDİK BAHÇELİEVLER         1\n",
      "BAHÇELİEVLER SOĞANLI        1\n",
      "Name: count, Length: 73, dtype: int64\n",
      "\n",
      " yas_araligi\n",
      "20-30 Yaş Arası                      35232\n",
      "30-40 Yaş Arası                      27173\n",
      "40-50 Yaş Arası                      25783\n",
      "50-60 Yaş Arası                      17177\n",
      "20 Yaş Altı                           7739\n",
      "60 Yaş Üstü                           5616\n",
      "ESENLER                                188\n",
      "ŞİŞLİ                                   36\n",
      "BAHÇELİEVLER                            31\n",
      "KADIKÖY                                 28\n",
      "ÇOLPAN İLHAN MODA OKULU / ŞİŞLİ         26\n",
      "KADIKÖY RASİMPAŞA                       19\n",
      "FATİH                                   18\n",
      "KÜÇÜKÇEKMECE                            11\n",
      "KAĞITHANE                               10\n",
      "ÜSKÜDAR AHMEDİYE                        10\n",
      "KARTAL                                   9\n",
      "ATAŞEHİR                                 8\n",
      "UZAKTAN EĞİTİM                           7\n",
      "ÜMRANİYE                                 7\n",
      "FATİH MUHASEBE VE FİNANSMAN OKULU        6\n",
      "Bar)                                     5\n",
      "SULTANBEYLİ MEHMET AKİF                  5\n",
      "ÇOLPAN İLHAN MODA OKULU                  5\n",
      "ŞİLE                                     4\n",
      "PENDİK                                   4\n",
      "SANCAKTEPE                               3\n",
      "ZEYTİNBURNU                              3\n",
      "BAŞAKŞEHİR                               3\n",
      "BAĞCILAR                                 3\n",
      "ADALAR                                   2\n",
      "ÇEKMEKÖY                                 2\n",
      "SULTANBEYLİ                              2\n",
      "SULTANGAZİ                               2\n",
      "BAKIRKÖY                                 2\n",
      "SARIYER                                  1\n",
      "TUZLA                                    1\n",
      "Name: count, dtype: int64\n"
     ]
    }
   ],
   "source": [
    "# Step 2: Explore the distribution of each feature\n",
    "for column in df.columns:\n",
    "    if df[column].dtype == 'object':  # Categorical features\n",
    "        print(\"\\n\", df[column].value_counts())\n",
    "    else:  # Numerical features\n",
    "        print(\"\\n\", df[column].describe())"
   ]
  },
  {
   "cell_type": "code",
   "execution_count": 18,
   "id": "99217a78",
   "metadata": {},
   "outputs": [
    {
     "data": {
      "image/png": "[encoded data removed]",
      "text/plain": [
       "<Figure size 1000x600 with 1 Axes>"
      ]
     },
     "metadata": {},
     "output_type": "display_data"
    }
   ],
   "source": [
    "# Visualize the distribution of education levels\n",
    "plt.figure(figsize=(10, 6))\n",
    "sns.countplot(data=df, x='egitim_durumu')\n",
    "plt.title(\"Distribution of Education Levels\")\n",
    "plt.xticks(rotation=45)\n",
    "plt.show()"
   ]
  },
  {
   "cell_type": "markdown",
   "id": "5d6c23c9",
   "metadata": {},
   "source": [
    "# Visualize the Distribution of Employment Status:"
   ]
  },
  {
   "cell_type": "markdown",
   "id": "0f3957f4",
   "metadata": {},
   "source": [
    "Create a bar plot to visualize the distribution of participants based on their employment status."
   ]
  },
  {
   "cell_type": "code",
   "execution_count": 19,
   "id": "b07a9668",
   "metadata": {},
   "outputs": [
    {
     "data": {
      "image/png": "[encoded data removed]",
      "text/plain": [
       "<Figure size 1000x600 with 1 Axes>"
      ]
     },
     "metadata": {},
     "output_type": "display_data"
    }
   ],
   "source": [
    "# Visualize the distribution of employment status\n",
    "plt.figure(figsize=(10, 6))\n",
    "sns.countplot(data=df, x='calisma_durumu')\n",
    "plt.title(\"Distribution of Employment Status\")\n",
    "plt.xticks(rotation=45)\n",
    "plt.show()"
   ]
  },
  {
   "cell_type": "markdown",
   "id": "fa7d20d0",
   "metadata": {},
   "source": [
    "# Explore the Relationship Between Employment Status and Education Level:"
   ]
  },
  {
   "cell_type": "markdown",
   "id": "ecd1a215",
   "metadata": {},
   "source": [
    "Investigate the relationship between 'calisma_durumu' and 'egitim_durumu'."
   ]
  },
  {
   "cell_type": "code",
   "execution_count": 20,
   "id": "152c1a43",
   "metadata": {},
   "outputs": [
    {
     "data": {
      "image/png": "[encoded data removed]",
      "text/plain": [
       "<Figure size 1200x800 with 1 Axes>"
      ]
     },
     "metadata": {},
     "output_type": "display_data"
    }
   ],
   "source": [
    "# Create a cross-tabulation and visualize the relationship\n",
    "cross_tab_education_employment = pd.crosstab(df['egitim_durumu'], df['calisma_durumu'])\n",
    "cross_tab_education_employment.plot(kind='bar', stacked=True, figsize=(12, 8))\n",
    "plt.title(\"Relationship Between Education Level and Employment Status\")\n",
    "plt.xlabel(\"Education Level\")\n",
    "plt.ylabel(\"Count\")\n",
    "plt.xticks(rotation=45)\n",
    "plt.legend(title='Employment Status')\n",
    "plt.show()"
   ]
  }
 ],
 "metadata": {
  "kernelspec": {
   "display_name": "Python 3 (ipykernel)",
   "language": "python",
   "name": "python3"
  },
  "language_info": {
   "codemirror_mode": {
    "name": "ipython",
    "version": 3
   },
   "file_extension": ".py",
   "mimetype": "text/x-python",
   "name": "python",
   "nbconvert_exporter": "python",
   "pygments_lexer": "ipython3",
   "version": "3.11.5"
  }
 },
 "nbformat": 4,
 "nbformat_minor": 5
}
